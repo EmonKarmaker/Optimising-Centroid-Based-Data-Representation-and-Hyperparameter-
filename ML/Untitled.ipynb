{
  "cells": [
    {
      "cell_type": "code",
      "execution_count": null,
      "metadata": {
        "colab": {
          "base_uri": "https://localhost:8080/"
        },
        "id": "wz3-DGPegl3B",
        "outputId": "850133d9-15f7-4c80-e352-c56137d6123f"
      },
      "outputs": [
        {
          "name": "stderr",
          "output_type": "stream",
          "text": [
            "/usr/local/lib/python3.10/dist-packages/sklearn/datasets/_openml.py:968: FutureWarning: The default value of `parser` will change from `'liac-arff'` to `'auto'` in 1.4. You can set `parser='auto'` to silence this warning. Therefore, an `ImportError` will be raised from 1.4 if the dataset is dense and pandas is not installed. Note that the pandas parser may return different data types. See the Notes Section in fetch_openml's API doc for details.\n",
            "  warn(\n"
          ]
        },
        {
          "name": "stdout",
          "output_type": "stream",
          "text": [
            "Partition 1:\n"
          ]
        },
        {
          "name": "stderr",
          "output_type": "stream",
          "text": [
            "/usr/local/lib/python3.10/dist-packages/sklearn/cluster/_kmeans.py:870: FutureWarning: The default value of `n_init` will change from 10 to 'auto' in 1.4. Set the value of `n_init` explicitly to suppress the warning\n",
            "  warnings.warn(\n"
          ]
        },
        {
          "name": "stdout",
          "output_type": "stream",
          "text": [
            "Accuracy for centroid 1: 0.30164285714285716\n",
            "Accuracy for centroid 2: 0.40585714285714286\n",
            "Accuracy for centroid 3: 0.2777857142857143\n",
            "Partition 2:\n"
          ]
        },
        {
          "name": "stderr",
          "output_type": "stream",
          "text": [
            "/usr/local/lib/python3.10/dist-packages/sklearn/cluster/_kmeans.py:870: FutureWarning: The default value of `n_init` will change from 10 to 'auto' in 1.4. Set the value of `n_init` explicitly to suppress the warning\n",
            "  warnings.warn(\n",
            "/usr/local/lib/python3.10/dist-packages/sklearn/model_selection/_split.py:700: UserWarning: The least populated class in y has only 2 members, which is less than n_splits=3.\n",
            "  warnings.warn(\n",
            "/usr/local/lib/python3.10/dist-packages/sklearn/model_selection/_split.py:700: UserWarning: The least populated class in y has only 2 members, which is less than n_splits=3.\n",
            "  warnings.warn(\n"
          ]
        },
        {
          "name": "stdout",
          "output_type": "stream",
          "text": [
            "Accuracy for centroid 1: 0.18792857142857142\n",
            "Accuracy for centroid 2: 0.26535714285714285\n",
            "Accuracy for centroid 3: 0.26771428571428574\n",
            "Partition 3:\n"
          ]
        },
        {
          "name": "stderr",
          "output_type": "stream",
          "text": [
            "/usr/local/lib/python3.10/dist-packages/sklearn/cluster/_kmeans.py:870: FutureWarning: The default value of `n_init` will change from 10 to 'auto' in 1.4. Set the value of `n_init` explicitly to suppress the warning\n",
            "  warnings.warn(\n"
          ]
        },
        {
          "name": "stdout",
          "output_type": "stream",
          "text": [
            "Accuracy for centroid 1: 0.2455\n",
            "Accuracy for centroid 2: 0.28464285714285714\n",
            "Accuracy for centroid 3: 0.26871428571428574\n",
            "Partition 4:\n"
          ]
        },
        {
          "name": "stderr",
          "output_type": "stream",
          "text": [
            "/usr/local/lib/python3.10/dist-packages/sklearn/cluster/_kmeans.py:870: FutureWarning: The default value of `n_init` will change from 10 to 'auto' in 1.4. Set the value of `n_init` explicitly to suppress the warning\n",
            "  warnings.warn(\n",
            "/usr/local/lib/python3.10/dist-packages/sklearn/model_selection/_split.py:700: UserWarning: The least populated class in y has only 2 members, which is less than n_splits=3.\n",
            "  warnings.warn(\n",
            "/usr/local/lib/python3.10/dist-packages/sklearn/model_selection/_split.py:700: UserWarning: The least populated class in y has only 1 members, which is less than n_splits=3.\n",
            "  warnings.warn(\n",
            "/usr/local/lib/python3.10/dist-packages/sklearn/model_selection/_split.py:700: UserWarning: The least populated class in y has only 1 members, which is less than n_splits=3.\n",
            "  warnings.warn(\n"
          ]
        },
        {
          "name": "stdout",
          "output_type": "stream",
          "text": [
            "Accuracy for centroid 1: 0.2917142857142857\n",
            "Accuracy for centroid 2: 0.3605\n",
            "Accuracy for centroid 3: 0.31335714285714283\n",
            "Partition 5:\n"
          ]
        },
        {
          "name": "stderr",
          "output_type": "stream",
          "text": [
            "/usr/local/lib/python3.10/dist-packages/sklearn/cluster/_kmeans.py:870: FutureWarning: The default value of `n_init` will change from 10 to 'auto' in 1.4. Set the value of `n_init` explicitly to suppress the warning\n",
            "  warnings.warn(\n"
          ]
        },
        {
          "name": "stdout",
          "output_type": "stream",
          "text": [
            "Accuracy for centroid 1: 0.2522142857142857\n",
            "Accuracy for centroid 2: 0.3375\n",
            "Accuracy for centroid 3: 0.2636428571428571\n"
          ]
        }
      ],
      "source": [
        "from sklearn.datasets import fetch_openml\n",
        "from sklearn.model_selection import train_test_split\n",
        "from sklearn.cluster import KMeans\n",
        "from sklearn.tree import DecisionTreeClassifier\n",
        "from sklearn.model_selection import GridSearchCV\n",
        "from sklearn.metrics import accuracy_score\n",
        "import numpy as np\n",
        "\n",
        "# Step 1: Load the MNIST dataset\n",
        "mnist = fetch_openml('mnist_784')\n",
        "\n",
        "# Step 2: Divide the data into 5 partitions\n",
        "X_train_parts = []\n",
        "y_train_parts = []\n",
        "X_test_parts = []\n",
        "y_test_parts = []\n",
        "\n",
        "for i in range(5):\n",
        "    X_train_part, X_test_part, y_train_part, y_test_part = train_test_split(\n",
        "        mnist.data, mnist.target, test_size=0.2, random_state=i)\n",
        "    X_train_parts.append(X_train_part)\n",
        "    y_train_parts.append(y_train_part)\n",
        "    X_test_parts.append(X_test_part)\n",
        "    y_test_parts.append(y_test_part)\n",
        "\n",
        "# Step 3-7: For each partition, perform K-means clustering, take centroids, and train Decision Tree with pruning\n",
        "for i in range(5):\n",
        "    print(f\"Partition {i + 1}:\")\n",
        "\n",
        "    # Perform K-means clustering\n",
        "    kmeans = KMeans(n_clusters=10, random_state=42)\n",
        "    kmeans.fit(X_train_parts[i])\n",
        "\n",
        "    # Take centroids from three clusters\n",
        "    centroids = kmeans.cluster_centers_[:3]\n",
        "\n",
        "    # Initialize a list to store models for each centroid\n",
        "    models = []\n",
        "\n",
        "    # Train Decision Tree for each centroid\n",
        "    for centroid in centroids:\n",
        "        # Perform K-nearest neighbors on the cluster\n",
        "        cluster_indices = np.argwhere(np.all(kmeans.cluster_centers_ == centroid, axis=1)).flatten()\n",
        "        X_cluster = X_train_parts[i][np.isin(kmeans.labels_, cluster_indices)]\n",
        "        y_cluster = y_train_parts[i][np.isin(kmeans.labels_, cluster_indices)]\n",
        "\n",
        "        # Initialize Decision Tree Classifier with pruning\n",
        "        dt_classifier = DecisionTreeClassifier(random_state=42, ccp_alpha=0.005) # Pruning parameter\n",
        "\n",
        "        # Define parameter grid for grid search\n",
        "        param_grid = {\n",
        "            'max_depth': [5, 10, 15],\n",
        "            'min_samples_split': [2, 5, 10],\n",
        "            'min_samples_leaf': [1, 2, 4]\n",
        "        }\n",
        "\n",
        "        # Grid search with cross-validation\n",
        "        grid_search = GridSearchCV(dt_classifier, param_grid, cv=3, scoring='accuracy')\n",
        "        grid_search.fit(X_cluster, y_cluster)\n",
        "\n",
        "        # Save the best model\n",
        "        models.append(grid_search.best_estimator_)\n",
        "\n",
        "    # Evaluate the models on the test set\n",
        "    for j, model in enumerate(models):\n",
        "        y_pred = model.predict(X_test_parts[i])\n",
        "        acc = accuracy_score(y_test_parts[i], y_pred)\n",
        "        print(f\"Accuracy for centroid {j+1}: {acc}\")\n"
      ]
    },
    {
      "cell_type": "code",
      "execution_count": null,
      "metadata": {
        "colab": {
          "base_uri": "https://localhost:8080/"
        },
        "id": "CL8GjTKHwQLr",
        "outputId": "1b4bec70-56fb-48d8-a885-9d1e46dacc17"
      },
      "outputs": [
        {
          "output_type": "stream",
          "name": "stderr",
          "text": [
            "/usr/local/lib/python3.10/dist-packages/sklearn/datasets/_openml.py:968: FutureWarning: The default value of `parser` will change from `'liac-arff'` to `'auto'` in 1.4. You can set `parser='auto'` to silence this warning. Therefore, an `ImportError` will be raised from 1.4 if the dataset is dense and pandas is not installed. Note that the pandas parser may return different data types. See the Notes Section in fetch_openml's API doc for details.\n",
            "  warn(\n",
            "/usr/local/lib/python3.10/dist-packages/sklearn/cluster/_kmeans.py:870: FutureWarning: The default value of `n_init` will change from 10 to 'auto' in 1.4. Set the value of `n_init` explicitly to suppress the warning\n",
            "  warnings.warn(\n"
          ]
        },
        {
          "output_type": "stream",
          "name": "stdout",
          "text": [
            "Accuracy for Partition 1: 0.8750714285714286\n"
          ]
        },
        {
          "output_type": "stream",
          "name": "stderr",
          "text": [
            "/usr/local/lib/python3.10/dist-packages/sklearn/cluster/_kmeans.py:870: FutureWarning: The default value of `n_init` will change from 10 to 'auto' in 1.4. Set the value of `n_init` explicitly to suppress the warning\n",
            "  warnings.warn(\n"
          ]
        },
        {
          "output_type": "stream",
          "name": "stdout",
          "text": [
            "Accuracy for Partition 2: 0.8750714285714286\n"
          ]
        },
        {
          "output_type": "stream",
          "name": "stderr",
          "text": [
            "/usr/local/lib/python3.10/dist-packages/sklearn/cluster/_kmeans.py:870: FutureWarning: The default value of `n_init` will change from 10 to 'auto' in 1.4. Set the value of `n_init` explicitly to suppress the warning\n",
            "  warnings.warn(\n"
          ]
        },
        {
          "output_type": "stream",
          "name": "stdout",
          "text": [
            "Accuracy for Partition 3: 0.8750714285714286\n"
          ]
        },
        {
          "output_type": "stream",
          "name": "stderr",
          "text": [
            "/usr/local/lib/python3.10/dist-packages/sklearn/cluster/_kmeans.py:870: FutureWarning: The default value of `n_init` will change from 10 to 'auto' in 1.4. Set the value of `n_init` explicitly to suppress the warning\n",
            "  warnings.warn(\n"
          ]
        },
        {
          "output_type": "stream",
          "name": "stdout",
          "text": [
            "Accuracy for Partition 4: 0.8750714285714286\n"
          ]
        },
        {
          "output_type": "stream",
          "name": "stderr",
          "text": [
            "/usr/local/lib/python3.10/dist-packages/sklearn/cluster/_kmeans.py:870: FutureWarning: The default value of `n_init` will change from 10 to 'auto' in 1.4. Set the value of `n_init` explicitly to suppress the warning\n",
            "  warnings.warn(\n"
          ]
        },
        {
          "output_type": "stream",
          "name": "stdout",
          "text": [
            "Accuracy for Partition 5: 0.8750714285714286\n"
          ]
        }
      ],
      "source": [
        "from sklearn.datasets import fetch_openml\n",
        "from sklearn.model_selection import train_test_split\n",
        "from sklearn.cluster import KMeans\n",
        "from sklearn.tree import DecisionTreeClassifier\n",
        "from sklearn.model_selection import GridSearchCV\n",
        "from sklearn.metrics import accuracy_score\n",
        "\n",
        "# Step 1: Load the MNIST dataset\n",
        "mnist = fetch_openml('mnist_784')\n",
        "\n",
        "# Step 2: Divide the data into 5 partitions\n",
        "X_train_partitions, X_test_partitions, y_train_partitions, y_test_partitions = [], [], [], []\n",
        "for _ in range(5):\n",
        "    X_train_partition, X_test_partition, y_train_partition, y_test_partition = train_test_split(\n",
        "        mnist.data, mnist.target, test_size=0.2, random_state=42\n",
        "    )\n",
        "    X_train_partitions.append(X_train_partition)\n",
        "    X_test_partitions.append(X_test_partition)\n",
        "    y_train_partitions.append(y_train_partition)\n",
        "    y_test_partitions.append(y_test_partition)\n",
        "\n",
        "# Step 3-7: Perform K-means clustering and Decision Tree for each partition\n",
        "for i in range(5):\n",
        "    # Step 4: Perform K-means clustering\n",
        "    kmeans = KMeans(n_clusters=10, random_state=42)\n",
        "    kmeans.fit(X_train_partitions[i])\n",
        "\n",
        "    # Step 5: Take centroids from 3 clusters\n",
        "    centroids = kmeans.cluster_centers_[:3]\n",
        "\n",
        "    # Step 6: Perform Decision Tree with best pruned tree and grid search with cross-validation\n",
        "    best_model = None\n",
        "    best_accuracy = 0\n",
        "    for centroid in centroids:\n",
        "        # Initialize Decision Tree Classifier\n",
        "        dt_classifier = DecisionTreeClassifier(random_state=42)\n",
        "\n",
        "        # Define parameter grid for grid search\n",
        "        param_grid = {\n",
        "            'max_depth': [5, 10, 15],\n",
        "            'min_samples_split': [2, 5, 10],\n",
        "            'min_samples_leaf': [1, 2, 4]\n",
        "        }\n",
        "\n",
        "        # Grid search with cross-validation\n",
        "        grid_search = GridSearchCV(dt_classifier, param_grid, cv=3, scoring='accuracy')\n",
        "        grid_search.fit(X_train_partitions[i], y_train_partitions[i])\n",
        "\n",
        "        # Evaluate on validation set\n",
        "        y_pred_valid = grid_search.predict(X_test_partitions[i])\n",
        "        accuracy = accuracy_score(y_test_partitions[i], y_pred_valid)\n",
        "\n",
        "        # Check if this model is the best so far\n",
        "        if accuracy > best_accuracy:\n",
        "            best_accuracy = accuracy\n",
        "            best_model = grid_search.best_estimator_\n",
        "\n",
        "    # Print accuracy for the partition\n",
        "    print(f\"Accuracy for Partition {i+1}: {best_accuracy}\")\n"
      ]
    },
    {
      "cell_type": "code",
      "source": [
        "# prompt: Accuracy, presition, recall for all pertision\n",
        "\n",
        "from sklearn.metrics import accuracy_score, precision_score, recall_score\n",
        "\n",
        "# Calculate accuracy, precision, and recall for each partition\n",
        "for i in range(5):\n",
        "    y_pred = best_model.predict(X_test_partitions[i])\n",
        "    accuracy = accuracy_score(y_test_partitions[i], y_pred)\n",
        "    precision = precision_score(y_test_partitions[i], y_pred, average='macro')\n",
        "    recall = recall_score(y_test_partitions[i], y_pred, average='macro')\n",
        "\n",
        "    # Print the metrics\n",
        "    print(f\"Partition {i+1}:\")\n",
        "    print(f\"Accuracy: {accuracy}\")\n",
        "    print(f\"Precision: {precision}\")\n",
        "    print(f\"Recall: {recall}\")\n"
      ],
      "metadata": {
        "colab": {
          "base_uri": "https://localhost:8080/"
        },
        "id": "SThzEH-AuGp8",
        "outputId": "8590d363-2133-4cf2-942f-34e937837867"
      },
      "execution_count": null,
      "outputs": [
        {
          "output_type": "stream",
          "name": "stdout",
          "text": [
            "Partition 1:\n",
            "Accuracy: 0.8750714285714286\n",
            "Precision: 0.8730845557012517\n",
            "Recall: 0.8732717822047737\n",
            "Partition 2:\n",
            "Accuracy: 0.8750714285714286\n",
            "Precision: 0.8730845557012517\n",
            "Recall: 0.8732717822047737\n",
            "Partition 3:\n",
            "Accuracy: 0.8750714285714286\n",
            "Precision: 0.8730845557012517\n",
            "Recall: 0.8732717822047737\n",
            "Partition 4:\n",
            "Accuracy: 0.8750714285714286\n",
            "Precision: 0.8730845557012517\n",
            "Recall: 0.8732717822047737\n",
            "Partition 5:\n",
            "Accuracy: 0.8750714285714286\n",
            "Precision: 0.8730845557012517\n",
            "Recall: 0.8732717822047737\n"
          ]
        }
      ]
    }
  ],
  "metadata": {
    "colab": {
      "provenance": []
    },
    "kernelspec": {
      "display_name": "Python 3",
      "name": "python3"
    },
    "language_info": {
      "name": "python"
    }
  },
  "nbformat": 4,
  "nbformat_minor": 0
}